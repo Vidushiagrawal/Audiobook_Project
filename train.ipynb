{
 "cells": [
  {
   "cell_type": "code",
   "execution_count": 1,
   "id": "4db46723",
   "metadata": {},
   "outputs": [],
   "source": [
    "import pyttsx3\n",
    "import PyPDF2"
   ]
  },
  {
   "cell_type": "code",
   "execution_count": 7,
   "id": "225dc376",
   "metadata": {},
   "outputs": [],
   "source": [
    "with open('pdf_sample.pdf','rb') as book:\n",
    "    text=\"\"\n",
    "    reader=PyPDF2.PdfReader(book)\n",
    "    audio_reader=pyttsx3.init()\n",
    "    audio_reader.setProperty(\"rate\",100)\n",
    "    for page in range (len(reader.pages)):\n",
    "        nextpage=reader.pages[page]\n",
    "        content=nextpage.extract_text()\n",
    "        text+=content\n",
    "    audio_reader.save_to_file(text,\"audiobook.mp3\")\n",
    "    audio_reader.runAndWait()"
   ]
  }
 ],
 "metadata": {
  "kernelspec": {
   "display_name": "Python 3 (ipykernel)",
   "language": "python",
   "name": "python3"
  },
  "language_info": {
   "codemirror_mode": {
    "name": "ipython",
    "version": 3
   },
   "file_extension": ".py",
   "mimetype": "text/x-python",
   "name": "python",
   "nbconvert_exporter": "python",
   "pygments_lexer": "ipython3",
   "version": "3.11.2"
  }
 },
 "nbformat": 4,
 "nbformat_minor": 5
}
